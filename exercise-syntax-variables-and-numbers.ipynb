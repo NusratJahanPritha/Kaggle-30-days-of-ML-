{
 "cells": [
  {
   "cell_type": "markdown",
   "id": "b95580ec",
   "metadata": {
    "papermill": {
     "duration": 0.017552,
     "end_time": "2021-08-17T02:54:28.782312",
     "exception": false,
     "start_time": "2021-08-17T02:54:28.764760",
     "status": "completed"
    },
    "tags": []
   },
   "source": [
    "**This notebook is an exercise in the [Python](https://www.kaggle.com/learn/python) course.  You can reference the tutorial at [this link](https://www.kaggle.com/colinmorris/hello-python).**\n",
    "\n",
    "---\n"
   ]
  },
  {
   "cell_type": "markdown",
   "id": "52a4e712",
   "metadata": {
    "papermill": {
     "duration": 0.014611,
     "end_time": "2021-08-17T02:54:28.812722",
     "exception": false,
     "start_time": "2021-08-17T02:54:28.798111",
     "status": "completed"
    },
    "tags": []
   },
   "source": [
    "Welcome to your first set of Python coding problems.  If this is your first time using Kaggle Notebooks, welcome! \n",
    "\n",
    "Notebooks are composed of blocks (called \"cells\") of text and code. Each of these is editable, though you'll mainly be editing the code cells to answer some questions.\n",
    "\n",
    "To get started, try running the code cell below (by pressing the ► button, or clicking on the cell and pressing ctrl+enter on your keyboard)."
   ]
  },
  {
   "cell_type": "code",
   "execution_count": 1,
   "id": "6dabeec1",
   "metadata": {
    "execution": {
     "iopub.execute_input": "2021-08-17T02:54:28.846007Z",
     "iopub.status.busy": "2021-08-17T02:54:28.845000Z",
     "iopub.status.idle": "2021-08-17T02:54:28.855158Z",
     "shell.execute_reply": "2021-08-17T02:54:28.854368Z",
     "shell.execute_reply.started": "2021-08-04T05:18:00.968882Z"
    },
    "papermill": {
     "duration": 0.027891,
     "end_time": "2021-08-17T02:54:28.855381",
     "exception": false,
     "start_time": "2021-08-17T02:54:28.827490",
     "status": "completed"
    },
    "tags": []
   },
   "outputs": [
    {
     "name": "stdout",
     "output_type": "stream",
     "text": [
      "You've successfully run some Python code\n",
      "Congratulations!\n",
      "Congrats!\n"
     ]
    }
   ],
   "source": [
    "print(\"You've successfully run some Python code\")\n",
    "print(\"Congratulations!\")\n",
    "print(\"Congrats!\")"
   ]
  },
  {
   "cell_type": "markdown",
   "id": "2d71fd44",
   "metadata": {
    "papermill": {
     "duration": 0.015328,
     "end_time": "2021-08-17T02:54:28.887583",
     "exception": false,
     "start_time": "2021-08-17T02:54:28.872255",
     "status": "completed"
    },
    "tags": []
   },
   "source": [
    "Try adding another line of code in the cell above and re-running it. \n",
    "\n",
    "Now let's get a little fancier:  Add a new code cell by clicking on an existing code cell, hitting the escape key, and then hitting the `a` or `b` key.  The `a` key will add a cell above the current cell, and `b` adds a cell below.\n",
    "\n",
    "Great! Now you know how to use Notebooks.\n",
    "\n",
    "Each hands-on exercise starts by setting up our feedback and code checking mechanism. Run the code cell below to do that. Then you'll be ready to move on to question 0."
   ]
  },
  {
   "cell_type": "code",
   "execution_count": 2,
   "id": "ccc406e2",
   "metadata": {
    "_kg_hide-input": true,
    "_kg_hide-output": true,
    "execution": {
     "iopub.execute_input": "2021-08-17T02:54:28.921957Z",
     "iopub.status.busy": "2021-08-17T02:54:28.921031Z",
     "iopub.status.idle": "2021-08-17T02:54:29.047488Z",
     "shell.execute_reply": "2021-08-17T02:54:29.046312Z",
     "shell.execute_reply.started": "2021-08-04T05:18:09.637193Z"
    },
    "papermill": {
     "duration": 0.144591,
     "end_time": "2021-08-17T02:54:29.047700",
     "exception": false,
     "start_time": "2021-08-17T02:54:28.903109",
     "status": "completed"
    },
    "tags": []
   },
   "outputs": [
    {
     "name": "stdout",
     "output_type": "stream",
     "text": [
      "Setup complete! You're ready to start question 0.\n"
     ]
    }
   ],
   "source": [
    "from learntools.core import binder; binder.bind(globals())\n",
    "from learntools.python.ex1 import *\n",
    "print(\"Setup complete! You're ready to start question 0.\")"
   ]
  },
  {
   "cell_type": "markdown",
   "id": "54147b03",
   "metadata": {
    "papermill": {
     "duration": 0.015223,
     "end_time": "2021-08-17T02:54:29.078978",
     "exception": false,
     "start_time": "2021-08-17T02:54:29.063755",
     "status": "completed"
    },
    "tags": []
   },
   "source": [
    "# 0.\n",
    "\n",
    "*This is a silly question intended as an introduction to the format we use for hands-on exercises throughout all Kaggle courses.*\n",
    "\n",
    "**What is your favorite color? **\n",
    "\n",
    "To complete this question, create a variable called `color` in the cell below with an appropriate value. The function call `q0.check()` (which we've already provided in the cell below) will check your answer."
   ]
  },
  {
   "cell_type": "code",
   "execution_count": 3,
   "id": "940ab076",
   "metadata": {
    "execution": {
     "iopub.execute_input": "2021-08-17T02:54:29.117106Z",
     "iopub.status.busy": "2021-08-17T02:54:29.116149Z",
     "iopub.status.idle": "2021-08-17T02:54:29.121475Z",
     "shell.execute_reply": "2021-08-17T02:54:29.121971Z",
     "shell.execute_reply.started": "2021-08-04T05:22:51.729175Z"
    },
    "papermill": {
     "duration": 0.027579,
     "end_time": "2021-08-17T02:54:29.122123",
     "exception": false,
     "start_time": "2021-08-17T02:54:29.094544",
     "status": "completed"
    },
    "tags": []
   },
   "outputs": [
    {
     "data": {
      "application/javascript": [
       "parent.postMessage({\"jupyterEvent\": \"custom.exercise_interaction\", \"data\": {\"outcomeType\": 1, \"valueTowardsCompletion\": 0.25, \"interactionType\": 1, \"questionType\": 2, \"questionId\": \"0_ExerciseFormatTutorial\", \"learnToolsVersion\": \"0.3.4\", \"failureMessage\": \"\", \"exceptionClass\": \"\", \"trace\": \"\"}}, \"*\")"
      ],
      "text/plain": [
       "<IPython.core.display.Javascript object>"
      ]
     },
     "metadata": {},
     "output_type": "display_data"
    },
    {
     "data": {
      "text/markdown": [
       "<span style=\"color:#33cc33\">Correct:</span> What?! You got it right without needing a hint or anything? Drats. Well hey, you should still continue to the next step to get some practice asking for a hint and checking solutions. (Even though you obviously don't need any help here.)"
      ],
      "text/plain": [
       "Correct: What?! You got it right without needing a hint or anything? Drats. Well hey, you should still continue to the next step to get some practice asking for a hint and checking solutions. (Even though you obviously don't need any help here.)"
      ]
     },
     "metadata": {},
     "output_type": "display_data"
    }
   ],
   "source": [
    "color=\"blue\"\n",
    "q0.check()"
   ]
  },
  {
   "cell_type": "markdown",
   "id": "4f38fc22",
   "metadata": {
    "papermill": {
     "duration": 0.016133,
     "end_time": "2021-08-17T02:54:29.154307",
     "exception": false,
     "start_time": "2021-08-17T02:54:29.138174",
     "status": "completed"
    },
    "tags": []
   },
   "source": [
    "Didn't get the right answer? How do you not even know your own favorite color?!\n",
    "\n",
    "Delete the `#` in the line below to make one of the lines run. You can choose between getting a hint or the full answer by choosing which line to remove the `#` from. \n",
    "\n",
    "Removing the `#` is called uncommenting, because it changes that line from a \"comment\" which Python doesn't run to code, which Python does run."
   ]
  },
  {
   "cell_type": "code",
   "execution_count": 4,
   "id": "9305f475",
   "metadata": {
    "execution": {
     "iopub.execute_input": "2021-08-17T02:54:29.189926Z",
     "iopub.status.busy": "2021-08-17T02:54:29.189065Z",
     "iopub.status.idle": "2021-08-17T02:54:29.198936Z",
     "shell.execute_reply": "2021-08-17T02:54:29.199370Z",
     "shell.execute_reply.started": "2021-08-04T05:20:55.232362Z"
    },
    "papermill": {
     "duration": 0.029049,
     "end_time": "2021-08-17T02:54:29.199524",
     "exception": false,
     "start_time": "2021-08-17T02:54:29.170475",
     "status": "completed"
    },
    "tags": []
   },
   "outputs": [
    {
     "data": {
      "application/javascript": [
       "parent.postMessage({\"jupyterEvent\": \"custom.exercise_interaction\", \"data\": {\"interactionType\": 2, \"questionType\": 2, \"questionId\": \"0_ExerciseFormatTutorial\", \"learnToolsVersion\": \"0.3.4\", \"valueTowardsCompletion\": 0.0, \"failureMessage\": \"\", \"exceptionClass\": \"\", \"trace\": \"\", \"outcomeType\": 4}}, \"*\")"
      ],
      "text/plain": [
       "<IPython.core.display.Javascript object>"
      ]
     },
     "metadata": {},
     "output_type": "display_data"
    },
    {
     "data": {
      "text/markdown": [
       "<span style=\"color:#3366cc\">Hint:</span> Your favorite color rhymes with *glue*."
      ],
      "text/plain": [
       "Hint: Your favorite color rhymes with *glue*."
      ]
     },
     "metadata": {},
     "output_type": "display_data"
    },
    {
     "data": {
      "application/javascript": [
       "parent.postMessage({\"jupyterEvent\": \"custom.exercise_interaction\", \"data\": {\"interactionType\": 3, \"questionType\": 2, \"questionId\": \"0_ExerciseFormatTutorial\", \"learnToolsVersion\": \"0.3.4\", \"valueTowardsCompletion\": 0.0, \"failureMessage\": \"\", \"exceptionClass\": \"\", \"trace\": \"\", \"outcomeType\": 4}}, \"*\")"
      ],
      "text/plain": [
       "<IPython.core.display.Javascript object>"
      ]
     },
     "metadata": {},
     "output_type": "display_data"
    },
    {
     "data": {
      "text/markdown": [
       "<span style=\"color:#33cc99\">Solution:</span> \n",
       "```python\n",
       "color = \"blue\"\n",
       "```"
      ],
      "text/plain": [
       "Solution: \n",
       "```python\n",
       "color = \"blue\"\n",
       "```"
      ]
     },
     "metadata": {},
     "output_type": "display_data"
    }
   ],
   "source": [
    "q0.hint()\n",
    "q0.solution()"
   ]
  },
  {
   "cell_type": "markdown",
   "id": "850a6c51",
   "metadata": {
    "papermill": {
     "duration": 0.017521,
     "end_time": "2021-08-17T02:54:29.234693",
     "exception": false,
     "start_time": "2021-08-17T02:54:29.217172",
     "status": "completed"
    },
    "tags": []
   },
   "source": [
    "The upcoming questions work the same way. The only thing that will change are the question numbers. For the next question, you'll call `q1.check()`, `q1.hint()`, `q1.solution()`, for question 2, you'll call `q2.check()`, and so on."
   ]
  },
  {
   "cell_type": "markdown",
   "id": "f72cc8bb",
   "metadata": {
    "papermill": {
     "duration": 0.017269,
     "end_time": "2021-08-17T02:54:29.269687",
     "exception": false,
     "start_time": "2021-08-17T02:54:29.252418",
     "status": "completed"
    },
    "tags": []
   },
   "source": [
    "<hr/>\n",
    "\n",
    "# 1.\n",
    "\n",
    "Complete the code below. In case it's helpful, here is the table of available arithmetic operations:\n",
    "\n",
    "\n",
    "\n",
    "| Operator     | Name           | Description                                            |\n",
    "|--------------|----------------|--------------------------------------------------------|\n",
    "| ``a + b``    | Addition       | Sum of ``a`` and ``b``                                 |\n",
    "| ``a - b``    | Subtraction    | Difference of ``a`` and ``b``                          |\n",
    "| ``a * b``    | Multiplication | Product of ``a`` and ``b``                             |\n",
    "| ``a / b``    | True division  | Quotient of ``a`` and ``b``                            |\n",
    "| ``a // b``   | Floor division | Quotient of ``a`` and ``b``, removing fractional parts |\n",
    "| ``a % b``    | Modulus        | Integer remainder after division of ``a`` by ``b``     |\n",
    "| ``a ** b``   | Exponentiation | ``a`` raised to the power of ``b``                     |\n",
    "| ``-a``       | Negation       | The negative of ``a``                                  |\n",
    "\n",
    "<span style=\"display:none\"></span>\n"
   ]
  },
  {
   "cell_type": "code",
   "execution_count": 5,
   "id": "301fd80b",
   "metadata": {
    "execution": {
     "iopub.execute_input": "2021-08-17T02:54:29.310437Z",
     "iopub.status.busy": "2021-08-17T02:54:29.309739Z",
     "iopub.status.idle": "2021-08-17T02:54:29.315539Z",
     "shell.execute_reply": "2021-08-17T02:54:29.314970Z",
     "shell.execute_reply.started": "2021-08-04T05:22:24.72218Z"
    },
    "papermill": {
     "duration": 0.028249,
     "end_time": "2021-08-17T02:54:29.315666",
     "exception": false,
     "start_time": "2021-08-17T02:54:29.287417",
     "status": "completed"
    },
    "tags": []
   },
   "outputs": [
    {
     "data": {
      "application/javascript": [
       "parent.postMessage({\"jupyterEvent\": \"custom.exercise_interaction\", \"data\": {\"outcomeType\": 1, \"valueTowardsCompletion\": 0.25, \"interactionType\": 1, \"questionType\": 1, \"questionId\": \"1_CircleArea\", \"learnToolsVersion\": \"0.3.4\", \"failureMessage\": \"\", \"exceptionClass\": \"\", \"trace\": \"\"}}, \"*\")"
      ],
      "text/plain": [
       "<IPython.core.display.Javascript object>"
      ]
     },
     "metadata": {},
     "output_type": "display_data"
    },
    {
     "data": {
      "text/markdown": [
       "<span style=\"color:#33cc33\">Correct</span>"
      ],
      "text/plain": [
       "Correct"
      ]
     },
     "metadata": {},
     "output_type": "display_data"
    }
   ],
   "source": [
    "pi = 3.14159 # approximate\n",
    "diameter = 3\n",
    "\n",
    "# Create a variable called 'radius' equal to half the diameter\n",
    "radius=0.5*diameter\n",
    "\n",
    "# Create a variable called 'area', using the formula for the area of a circle: pi times the radius squared\n",
    "area=pi*radius**2\n",
    "\n",
    "# Check your answer\n",
    "q1.check()"
   ]
  },
  {
   "cell_type": "code",
   "execution_count": 6,
   "id": "d062fc17",
   "metadata": {
    "execution": {
     "iopub.execute_input": "2021-08-17T02:54:29.358672Z",
     "iopub.status.busy": "2021-08-17T02:54:29.357771Z",
     "iopub.status.idle": "2021-08-17T02:54:29.365789Z",
     "shell.execute_reply": "2021-08-17T02:54:29.366221Z",
     "shell.execute_reply.started": "2021-08-04T05:23:15.593416Z"
    },
    "papermill": {
     "duration": 0.031319,
     "end_time": "2021-08-17T02:54:29.366392",
     "exception": false,
     "start_time": "2021-08-17T02:54:29.335073",
     "status": "completed"
    },
    "tags": []
   },
   "outputs": [
    {
     "data": {
      "application/javascript": [
       "parent.postMessage({\"jupyterEvent\": \"custom.exercise_interaction\", \"data\": {\"interactionType\": 2, \"questionType\": 1, \"questionId\": \"1_CircleArea\", \"learnToolsVersion\": \"0.3.4\", \"valueTowardsCompletion\": 0.0, \"failureMessage\": \"\", \"exceptionClass\": \"\", \"trace\": \"\", \"outcomeType\": 4}}, \"*\")"
      ],
      "text/plain": [
       "<IPython.core.display.Javascript object>"
      ]
     },
     "metadata": {},
     "output_type": "display_data"
    },
    {
     "data": {
      "text/markdown": [
       "<span style=\"color:#3366cc\">Hint:</span> The syntax to raise a to the b'th power is `a ** b`"
      ],
      "text/plain": [
       "Hint: The syntax to raise a to the b'th power is `a ** b`"
      ]
     },
     "metadata": {},
     "output_type": "display_data"
    },
    {
     "data": {
      "application/javascript": [
       "parent.postMessage({\"jupyterEvent\": \"custom.exercise_interaction\", \"data\": {\"interactionType\": 3, \"questionType\": 1, \"questionId\": \"1_CircleArea\", \"learnToolsVersion\": \"0.3.4\", \"valueTowardsCompletion\": 0.0, \"failureMessage\": \"\", \"exceptionClass\": \"\", \"trace\": \"\", \"outcomeType\": 4}}, \"*\")"
      ],
      "text/plain": [
       "<IPython.core.display.Javascript object>"
      ]
     },
     "metadata": {},
     "output_type": "display_data"
    },
    {
     "data": {
      "text/markdown": [
       "<span style=\"color:#33cc99\">Solution:</span> \n",
       "```python\n",
       "radius = diameter / 2\n",
       "area = pi * radius ** 2\n",
       "```"
      ],
      "text/plain": [
       "Solution: \n",
       "```python\n",
       "radius = diameter / 2\n",
       "area = pi * radius ** 2\n",
       "```"
      ]
     },
     "metadata": {},
     "output_type": "display_data"
    }
   ],
   "source": [
    "# Uncomment and run the lines below if you need help.\n",
    "q1.hint()\n",
    "q1.solution()"
   ]
  },
  {
   "cell_type": "markdown",
   "id": "42e51696",
   "metadata": {
    "papermill": {
     "duration": 0.01948,
     "end_time": "2021-08-17T02:54:29.405734",
     "exception": false,
     "start_time": "2021-08-17T02:54:29.386254",
     "status": "completed"
    },
    "tags": []
   },
   "source": [
    "<hr/>\n",
    "\n",
    "# 2.\n",
    "\n",
    "Add code to the following cell to swap variables `a` and `b` (so that `a` refers to the object previously referred to by `b` and vice versa)."
   ]
  },
  {
   "cell_type": "code",
   "execution_count": 7,
   "id": "57a706c0",
   "metadata": {
    "execution": {
     "iopub.execute_input": "2021-08-17T02:54:29.451112Z",
     "iopub.status.busy": "2021-08-17T02:54:29.450381Z",
     "iopub.status.idle": "2021-08-17T02:54:29.455572Z",
     "shell.execute_reply": "2021-08-17T02:54:29.455096Z",
     "shell.execute_reply.started": "2021-08-04T05:25:59.040755Z"
    },
    "papermill": {
     "duration": 0.030203,
     "end_time": "2021-08-17T02:54:29.455699",
     "exception": false,
     "start_time": "2021-08-17T02:54:29.425496",
     "status": "completed"
    },
    "tags": []
   },
   "outputs": [
    {
     "data": {
      "application/javascript": [
       "parent.postMessage({\"jupyterEvent\": \"custom.exercise_interaction\", \"data\": {\"outcomeType\": 1, \"valueTowardsCompletion\": 0.25, \"interactionType\": 1, \"questionType\": 2, \"questionId\": \"2_VariableSwap\", \"learnToolsVersion\": \"0.3.4\", \"failureMessage\": \"\", \"exceptionClass\": \"\", \"trace\": \"\"}}, \"*\")"
      ],
      "text/plain": [
       "<IPython.core.display.Javascript object>"
      ]
     },
     "metadata": {},
     "output_type": "display_data"
    },
    {
     "data": {
      "text/markdown": [
       "<span style=\"color:#33cc33\">Correct:</span> \n",
       "\n",
       "The most straightforward solution is to use a third variable to temporarily store one of the old values. e.g.:\n",
       "\n",
       "    tmp = a\n",
       "    a = b\n",
       "    b = tmp\n",
       "\n",
       "If you've read lots of Python code, you might have seen the following trick to swap two variables in one line:\n",
       "\n",
       "    a, b = b, a\n",
       "\n",
       "We'll demystify this bit of Python magic later when we talk about *tuples*."
      ],
      "text/plain": [
       "Correct: \n",
       "\n",
       "The most straightforward solution is to use a third variable to temporarily store one of the old values. e.g.:\n",
       "\n",
       "    tmp = a\n",
       "    a = b\n",
       "    b = tmp\n",
       "\n",
       "If you've read lots of Python code, you might have seen the following trick to swap two variables in one line:\n",
       "\n",
       "    a, b = b, a\n",
       "\n",
       "We'll demystify this bit of Python magic later when we talk about *tuples*."
      ]
     },
     "metadata": {},
     "output_type": "display_data"
    }
   ],
   "source": [
    "########### Setup code - don't touch this part ######################\n",
    "# If you're curious, these are examples of lists. We'll talk about \n",
    "# them in depth a few lessons from now. For now, just know that they're\n",
    "# yet another type of Python object, like int or float.\n",
    "a = [1, 2, 3]\n",
    "b = [3, 2, 1]\n",
    "q2.store_original_ids()\n",
    "######################################################################\n",
    "\n",
    "# Your code goes here. Swap the values to which a and b refer.\n",
    "# If you get stuck, you can always uncomment one or both of the lines in\n",
    "# the next cell for a hint, or to peek at the solution.\n",
    "\n",
    "######################################################################\n",
    "temp=a\n",
    "a=b\n",
    "b=temp\n",
    "\n",
    "# Check your answer\n",
    "q2.check()"
   ]
  },
  {
   "cell_type": "code",
   "execution_count": 8,
   "id": "914ea130",
   "metadata": {
    "execution": {
     "iopub.execute_input": "2021-08-17T02:54:29.501935Z",
     "iopub.status.busy": "2021-08-17T02:54:29.501352Z",
     "iopub.status.idle": "2021-08-17T02:54:29.504772Z",
     "shell.execute_reply": "2021-08-17T02:54:29.505147Z",
     "shell.execute_reply.started": "2021-08-04T05:24:25.200497Z"
    },
    "papermill": {
     "duration": 0.028785,
     "end_time": "2021-08-17T02:54:29.505327",
     "exception": false,
     "start_time": "2021-08-17T02:54:29.476542",
     "status": "completed"
    },
    "tags": []
   },
   "outputs": [
    {
     "data": {
      "application/javascript": [
       "parent.postMessage({\"jupyterEvent\": \"custom.exercise_interaction\", \"data\": {\"interactionType\": 2, \"questionType\": 2, \"questionId\": \"2_VariableSwap\", \"learnToolsVersion\": \"0.3.4\", \"valueTowardsCompletion\": 0.0, \"failureMessage\": \"\", \"exceptionClass\": \"\", \"trace\": \"\", \"outcomeType\": 4}}, \"*\")"
      ],
      "text/plain": [
       "<IPython.core.display.Javascript object>"
      ]
     },
     "metadata": {},
     "output_type": "display_data"
    },
    {
     "data": {
      "text/markdown": [
       "<span style=\"color:#3366cc\">Hint:</span> Try using a third variable."
      ],
      "text/plain": [
       "Hint: Try using a third variable."
      ]
     },
     "metadata": {},
     "output_type": "display_data"
    }
   ],
   "source": [
    "q2.hint()"
   ]
  },
  {
   "cell_type": "code",
   "execution_count": 9,
   "id": "a8e10581",
   "metadata": {
    "execution": {
     "iopub.execute_input": "2021-08-17T02:54:29.550907Z",
     "iopub.status.busy": "2021-08-17T02:54:29.550346Z",
     "iopub.status.idle": "2021-08-17T02:54:29.556300Z",
     "shell.execute_reply": "2021-08-17T02:54:29.556716Z",
     "shell.execute_reply.started": "2021-08-04T05:24:52.090108Z"
    },
    "papermill": {
     "duration": 0.030192,
     "end_time": "2021-08-17T02:54:29.556865",
     "exception": false,
     "start_time": "2021-08-17T02:54:29.526673",
     "status": "completed"
    },
    "tags": []
   },
   "outputs": [
    {
     "data": {
      "application/javascript": [
       "parent.postMessage({\"jupyterEvent\": \"custom.exercise_interaction\", \"data\": {\"interactionType\": 3, \"questionType\": 2, \"questionId\": \"2_VariableSwap\", \"learnToolsVersion\": \"0.3.4\", \"valueTowardsCompletion\": 0.0, \"failureMessage\": \"\", \"exceptionClass\": \"\", \"trace\": \"\", \"outcomeType\": 4}}, \"*\")"
      ],
      "text/plain": [
       "<IPython.core.display.Javascript object>"
      ]
     },
     "metadata": {},
     "output_type": "display_data"
    },
    {
     "data": {
      "text/markdown": [
       "<span style=\"color:#33cc99\">Solution:</span> The most straightforward solution is to use a third variable to temporarily store one of the old values. e.g.:\n",
       "\n",
       "    tmp = a\n",
       "    a = b\n",
       "    b = tmp\n",
       "\n",
       "If you've read lots of Python code, you might have seen the following trick to swap two variables in one line:\n",
       "\n",
       "    a, b = b, a\n",
       "\n",
       "We'll demystify this bit of Python magic later when we talk about *tuples*."
      ],
      "text/plain": [
       "Solution: The most straightforward solution is to use a third variable to temporarily store one of the old values. e.g.:\n",
       "\n",
       "    tmp = a\n",
       "    a = b\n",
       "    b = tmp\n",
       "\n",
       "If you've read lots of Python code, you might have seen the following trick to swap two variables in one line:\n",
       "\n",
       "    a, b = b, a\n",
       "\n",
       "We'll demystify this bit of Python magic later when we talk about *tuples*."
      ]
     },
     "metadata": {},
     "output_type": "display_data"
    }
   ],
   "source": [
    "q2.solution()"
   ]
  },
  {
   "cell_type": "markdown",
   "id": "97c9f98a",
   "metadata": {
    "papermill": {
     "duration": 0.02195,
     "end_time": "2021-08-17T02:54:29.600849",
     "exception": false,
     "start_time": "2021-08-17T02:54:29.578899",
     "status": "completed"
    },
    "tags": []
   },
   "source": [
    "<hr/>\n",
    "\n",
    "# 3a.\n",
    "\n",
    "Add parentheses to the following expression so that it evaluates to 1."
   ]
  },
  {
   "cell_type": "code",
   "execution_count": 10,
   "id": "0a877cdc",
   "metadata": {
    "execution": {
     "iopub.execute_input": "2021-08-17T02:54:29.648267Z",
     "iopub.status.busy": "2021-08-17T02:54:29.647666Z",
     "iopub.status.idle": "2021-08-17T02:54:29.651746Z",
     "shell.execute_reply": "2021-08-17T02:54:29.652179Z",
     "shell.execute_reply.started": "2021-08-04T05:26:26.034639Z"
    },
    "papermill": {
     "duration": 0.029347,
     "end_time": "2021-08-17T02:54:29.652357",
     "exception": false,
     "start_time": "2021-08-17T02:54:29.623010",
     "status": "completed"
    },
    "tags": []
   },
   "outputs": [
    {
     "data": {
      "text/plain": [
       "1"
      ]
     },
     "execution_count": 10,
     "metadata": {},
     "output_type": "execute_result"
    }
   ],
   "source": [
    "(5 - 3 )// 2"
   ]
  },
  {
   "cell_type": "code",
   "execution_count": 11,
   "id": "9bc2571a",
   "metadata": {
    "execution": {
     "iopub.execute_input": "2021-08-17T02:54:29.700759Z",
     "iopub.status.busy": "2021-08-17T02:54:29.700213Z",
     "iopub.status.idle": "2021-08-17T02:54:29.703016Z",
     "shell.execute_reply": "2021-08-17T02:54:29.703462Z"
    },
    "papermill": {
     "duration": 0.02828,
     "end_time": "2021-08-17T02:54:29.703616",
     "exception": false,
     "start_time": "2021-08-17T02:54:29.675336",
     "status": "completed"
    },
    "tags": []
   },
   "outputs": [],
   "source": [
    "#q3.a.hint()"
   ]
  },
  {
   "cell_type": "code",
   "execution_count": 12,
   "id": "6f75846f",
   "metadata": {
    "execution": {
     "iopub.execute_input": "2021-08-17T02:54:29.751441Z",
     "iopub.status.busy": "2021-08-17T02:54:29.750837Z",
     "iopub.status.idle": "2021-08-17T02:54:29.756353Z",
     "shell.execute_reply": "2021-08-17T02:54:29.756767Z"
    },
    "papermill": {
     "duration": 0.030849,
     "end_time": "2021-08-17T02:54:29.756930",
     "exception": false,
     "start_time": "2021-08-17T02:54:29.726081",
     "status": "completed"
    },
    "tags": []
   },
   "outputs": [
    {
     "data": {
      "application/javascript": [
       "parent.postMessage({\"jupyterEvent\": \"custom.exercise_interaction\", \"data\": {\"interactionType\": 3, \"questionType\": 4, \"questionId\": \"3.1_ArithmeticParensEasy\", \"learnToolsVersion\": \"0.3.4\", \"valueTowardsCompletion\": 0.0, \"failureMessage\": \"\", \"exceptionClass\": \"\", \"trace\": \"\", \"outcomeType\": 4}}, \"*\")"
      ],
      "text/plain": [
       "<IPython.core.display.Javascript object>"
      ]
     },
     "metadata": {},
     "output_type": "display_data"
    },
    {
     "data": {
      "text/markdown": [
       "<span style=\"color:#33cc99\">Solution:</span> \n",
       "```python\n",
       "(5 - 3) // 2\n",
       "```"
      ],
      "text/plain": [
       "Solution: \n",
       "```python\n",
       "(5 - 3) // 2\n",
       "```"
      ]
     },
     "metadata": {},
     "output_type": "display_data"
    }
   ],
   "source": [
    "# Check your answer (Run this code cell to receive credit!)\n",
    "q3.a.solution()"
   ]
  },
  {
   "cell_type": "markdown",
   "id": "51ed69d9",
   "metadata": {
    "papermill": {
     "duration": 0.023192,
     "end_time": "2021-08-17T02:54:29.803405",
     "exception": false,
     "start_time": "2021-08-17T02:54:29.780213",
     "status": "completed"
    },
    "tags": []
   },
   "source": [
    "# 3b.  <span title=\"A bit spicy\" style=\"color: darkgreen \">🌶️</span>\n",
    "\n",
    "<small>Questions, like this one, marked a spicy pepper are a bit harder.</small>\n",
    "\n",
    "Add parentheses to the following expression so that it evaluates to 0."
   ]
  },
  {
   "cell_type": "code",
   "execution_count": 13,
   "id": "73169e35",
   "metadata": {
    "execution": {
     "iopub.execute_input": "2021-08-17T02:54:29.854136Z",
     "iopub.status.busy": "2021-08-17T02:54:29.853550Z",
     "iopub.status.idle": "2021-08-17T02:54:29.858336Z",
     "shell.execute_reply": "2021-08-17T02:54:29.858716Z",
     "shell.execute_reply.started": "2021-08-04T05:29:07.557933Z"
    },
    "papermill": {
     "duration": 0.031391,
     "end_time": "2021-08-17T02:54:29.858883",
     "exception": false,
     "start_time": "2021-08-17T02:54:29.827492",
     "status": "completed"
    },
    "tags": []
   },
   "outputs": [
    {
     "data": {
      "text/plain": [
       "0"
      ]
     },
     "execution_count": 13,
     "metadata": {},
     "output_type": "execute_result"
    }
   ],
   "source": [
    "(8 - 3) * (2 - (1 + 1))"
   ]
  },
  {
   "cell_type": "code",
   "execution_count": 14,
   "id": "7c3df151",
   "metadata": {
    "execution": {
     "iopub.execute_input": "2021-08-17T02:54:29.911114Z",
     "iopub.status.busy": "2021-08-17T02:54:29.910488Z",
     "iopub.status.idle": "2021-08-17T02:54:29.916122Z",
     "shell.execute_reply": "2021-08-17T02:54:29.915590Z",
     "shell.execute_reply.started": "2021-08-04T05:27:55.834955Z"
    },
    "papermill": {
     "duration": 0.033847,
     "end_time": "2021-08-17T02:54:29.916272",
     "exception": false,
     "start_time": "2021-08-17T02:54:29.882425",
     "status": "completed"
    },
    "tags": []
   },
   "outputs": [
    {
     "data": {
      "application/javascript": [
       "parent.postMessage({\"jupyterEvent\": \"custom.exercise_interaction\", \"data\": {\"interactionType\": 2, \"questionType\": 4, \"questionId\": \"3.2_ArithmeticParensHard\", \"learnToolsVersion\": \"0.3.4\", \"valueTowardsCompletion\": 0.0, \"failureMessage\": \"\", \"exceptionClass\": \"\", \"trace\": \"\", \"outcomeType\": 4}}, \"*\")"
      ],
      "text/plain": [
       "<IPython.core.display.Javascript object>"
      ]
     },
     "metadata": {},
     "output_type": "display_data"
    },
    {
     "data": {
      "text/markdown": [
       "<span style=\"color:#3366cc\">Hint:</span> You may need to use several pairs of parentheses."
      ],
      "text/plain": [
       "Hint: You may need to use several pairs of parentheses."
      ]
     },
     "metadata": {},
     "output_type": "display_data"
    }
   ],
   "source": [
    "q3.b.hint()"
   ]
  },
  {
   "cell_type": "code",
   "execution_count": 15,
   "id": "721845e0",
   "metadata": {
    "execution": {
     "iopub.execute_input": "2021-08-17T02:54:29.969657Z",
     "iopub.status.busy": "2021-08-17T02:54:29.969037Z",
     "iopub.status.idle": "2021-08-17T02:54:29.973294Z",
     "shell.execute_reply": "2021-08-17T02:54:29.973778Z",
     "shell.execute_reply.started": "2021-08-04T05:28:26.900373Z"
    },
    "papermill": {
     "duration": 0.033251,
     "end_time": "2021-08-17T02:54:29.973940",
     "exception": false,
     "start_time": "2021-08-17T02:54:29.940689",
     "status": "completed"
    },
    "tags": []
   },
   "outputs": [
    {
     "data": {
      "application/javascript": [
       "parent.postMessage({\"jupyterEvent\": \"custom.exercise_interaction\", \"data\": {\"interactionType\": 3, \"questionType\": 4, \"questionId\": \"3.2_ArithmeticParensHard\", \"learnToolsVersion\": \"0.3.4\", \"valueTowardsCompletion\": 0.0, \"failureMessage\": \"\", \"exceptionClass\": \"\", \"trace\": \"\", \"outcomeType\": 4}}, \"*\")"
      ],
      "text/plain": [
       "<IPython.core.display.Javascript object>"
      ]
     },
     "metadata": {},
     "output_type": "display_data"
    },
    {
     "data": {
      "text/markdown": [
       "<span style=\"color:#33cc99\">Solution:</span> `(8 - 3) * (2 - (1 + 1))` is one solution. There may be others."
      ],
      "text/plain": [
       "Solution: `(8 - 3) * (2 - (1 + 1))` is one solution. There may be others."
      ]
     },
     "metadata": {},
     "output_type": "display_data"
    }
   ],
   "source": [
    "# Check your answer (Run this code cell to receive credit!)\n",
    "q3.b.solution()"
   ]
  },
  {
   "cell_type": "markdown",
   "id": "6fa03cd5",
   "metadata": {
    "papermill": {
     "duration": 0.025781,
     "end_time": "2021-08-17T02:54:30.024796",
     "exception": false,
     "start_time": "2021-08-17T02:54:29.999015",
     "status": "completed"
    },
    "tags": []
   },
   "source": [
    "<hr/>\n",
    "\n",
    "# 4. \n",
    "Alice, Bob and Carol have agreed to pool their Halloween candy and split it evenly among themselves.\n",
    "For the sake of their friendship, any candies left over will be smashed. For example, if they collectively\n",
    "bring home 91 candies, they'll take 30 each and smash 1.\n",
    "\n",
    "Write an arithmetic expression below to calculate how many candies they must smash for a given haul."
   ]
  },
  {
   "cell_type": "code",
   "execution_count": 16,
   "id": "0009a758",
   "metadata": {
    "execution": {
     "iopub.execute_input": "2021-08-17T02:54:30.077184Z",
     "iopub.status.busy": "2021-08-17T02:54:30.076604Z",
     "iopub.status.idle": "2021-08-17T02:54:30.082757Z",
     "shell.execute_reply": "2021-08-17T02:54:30.083312Z",
     "shell.execute_reply.started": "2021-08-04T05:32:08.592161Z"
    },
    "papermill": {
     "duration": 0.033789,
     "end_time": "2021-08-17T02:54:30.083470",
     "exception": false,
     "start_time": "2021-08-17T02:54:30.049681",
     "status": "completed"
    },
    "tags": []
   },
   "outputs": [
    {
     "data": {
      "application/javascript": [
       "parent.postMessage({\"jupyterEvent\": \"custom.exercise_interaction\", \"data\": {\"outcomeType\": 1, \"valueTowardsCompletion\": 0.25, \"interactionType\": 1, \"questionType\": 1, \"questionId\": \"4_CandySplitting\", \"learnToolsVersion\": \"0.3.4\", \"failureMessage\": \"\", \"exceptionClass\": \"\", \"trace\": \"\"}}, \"*\")"
      ],
      "text/plain": [
       "<IPython.core.display.Javascript object>"
      ]
     },
     "metadata": {},
     "output_type": "display_data"
    },
    {
     "data": {
      "text/markdown": [
       "<span style=\"color:#33cc33\">Correct</span>"
      ],
      "text/plain": [
       "Correct"
      ]
     },
     "metadata": {},
     "output_type": "display_data"
    }
   ],
   "source": [
    "# Variables representing the number of candies collected by alice, bob, and carol\n",
    "alice_candies = 121\n",
    "bob_candies = 77\n",
    "carol_candies = 109\n",
    "\n",
    "# Your code goes here! Replace the right-hand side of this assignment with an expression\n",
    "# involving alice_candies, bob_candies, and carol_candies\n",
    "to_smash = (alice_candies + bob_candies + carol_candies) % 3\n",
    "\n",
    "# Check your answer\n",
    "q4.check()"
   ]
  },
  {
   "cell_type": "code",
   "execution_count": 17,
   "id": "278b9d3f",
   "metadata": {
    "execution": {
     "iopub.execute_input": "2021-08-17T02:54:30.137913Z",
     "iopub.status.busy": "2021-08-17T02:54:30.137358Z",
     "iopub.status.idle": "2021-08-17T02:54:30.142754Z",
     "shell.execute_reply": "2021-08-17T02:54:30.143312Z",
     "shell.execute_reply.started": "2021-08-04T05:31:26.133359Z"
    },
    "papermill": {
     "duration": 0.034347,
     "end_time": "2021-08-17T02:54:30.143467",
     "exception": false,
     "start_time": "2021-08-17T02:54:30.109120",
     "status": "completed"
    },
    "tags": []
   },
   "outputs": [
    {
     "data": {
      "application/javascript": [
       "parent.postMessage({\"jupyterEvent\": \"custom.exercise_interaction\", \"data\": {\"interactionType\": 3, \"questionType\": 1, \"questionId\": \"4_CandySplitting\", \"learnToolsVersion\": \"0.3.4\", \"valueTowardsCompletion\": 0.0, \"failureMessage\": \"\", \"exceptionClass\": \"\", \"trace\": \"\", \"outcomeType\": 4}}, \"*\")"
      ],
      "text/plain": [
       "<IPython.core.display.Javascript object>"
      ]
     },
     "metadata": {},
     "output_type": "display_data"
    },
    {
     "data": {
      "text/markdown": [
       "<span style=\"color:#33cc99\">Solution:</span> \n",
       "```python\n",
       "(alice_candies + bob_candies + carol_candies) % 3\n",
       "```"
      ],
      "text/plain": [
       "Solution: \n",
       "```python\n",
       "(alice_candies + bob_candies + carol_candies) % 3\n",
       "```"
      ]
     },
     "metadata": {},
     "output_type": "display_data"
    }
   ],
   "source": [
    "#q4.hint()\n",
    "q4.solution()"
   ]
  },
  {
   "cell_type": "markdown",
   "id": "f03041fb",
   "metadata": {
    "papermill": {
     "duration": 0.027644,
     "end_time": "2021-08-17T02:54:30.197565",
     "exception": false,
     "start_time": "2021-08-17T02:54:30.169921",
     "status": "completed"
    },
    "tags": []
   },
   "source": [
    "# Keep Going\n",
    "\n",
    "Next up, you'll **[learn to write new functions and understand functions others write](https://www.kaggle.com/colinmorris/functions-and-getting-help)**. This will make you at least 10 times more productive as a Python programmer. "
   ]
  },
  {
   "cell_type": "markdown",
   "id": "46629353",
   "metadata": {
    "papermill": {
     "duration": 0.030913,
     "end_time": "2021-08-17T02:54:30.264214",
     "exception": false,
     "start_time": "2021-08-17T02:54:30.233301",
     "status": "completed"
    },
    "tags": []
   },
   "source": [
    "---\n",
    "\n",
    "\n",
    "\n",
    "\n",
    "*Have questions or comments? Visit the [Learn Discussion forum](https://www.kaggle.com/learn-forum/161283) to chat with other Learners.*"
   ]
  }
 ],
 "metadata": {
  "kernelspec": {
   "display_name": "Python 3",
   "language": "python",
   "name": "python3"
  },
  "language_info": {
   "codemirror_mode": {
    "name": "ipython",
    "version": 3
   },
   "file_extension": ".py",
   "mimetype": "text/x-python",
   "name": "python",
   "nbconvert_exporter": "python",
   "pygments_lexer": "ipython3",
   "version": "3.7.10"
  },
  "papermill": {
   "default_parameters": {},
   "duration": 9.681327,
   "end_time": "2021-08-17T02:54:31.752978",
   "environment_variables": {},
   "exception": null,
   "input_path": "__notebook__.ipynb",
   "output_path": "__notebook__.ipynb",
   "parameters": {},
   "start_time": "2021-08-17T02:54:22.071651",
   "version": "2.3.3"
  }
 },
 "nbformat": 4,
 "nbformat_minor": 5
}
