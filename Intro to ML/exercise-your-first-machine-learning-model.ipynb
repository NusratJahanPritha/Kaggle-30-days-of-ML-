{
 "cells": [
  {
   "cell_type": "markdown",
   "id": "98ec33c2",
   "metadata": {
    "papermill": {
     "duration": 0.016352,
     "end_time": "2021-08-15T13:19:26.787800",
     "exception": false,
     "start_time": "2021-08-15T13:19:26.771448",
     "status": "completed"
    },
    "tags": []
   },
   "source": [
    "**This notebook is an exercise in the [Introduction to Machine Learning](https://www.kaggle.com/learn/intro-to-machine-learning) course.  You can reference the tutorial at [this link](https://www.kaggle.com/dansbecker/your-first-machine-learning-model).**\n",
    "\n",
    "---\n"
   ]
  },
  {
   "cell_type": "markdown",
   "id": "e3ed87ea",
   "metadata": {
    "papermill": {
     "duration": 0.016058,
     "end_time": "2021-08-15T13:19:26.821169",
     "exception": false,
     "start_time": "2021-08-15T13:19:26.805111",
     "status": "completed"
    },
    "tags": []
   },
   "source": [
    "## Recap\n",
    "So far, you have loaded your data and reviewed it with the following code. Run this cell to set up your coding environment where the previous step left off."
   ]
  },
  {
   "cell_type": "code",
   "execution_count": 1,
   "id": "757a2358",
   "metadata": {
    "execution": {
     "iopub.execute_input": "2021-08-15T13:19:26.869948Z",
     "iopub.status.busy": "2021-08-15T13:19:26.869228Z",
     "iopub.status.idle": "2021-08-15T13:19:28.094568Z",
     "shell.execute_reply": "2021-08-15T13:19:28.093333Z",
     "shell.execute_reply.started": "2021-08-15T13:18:47.041902Z"
    },
    "papermill": {
     "duration": 1.256436,
     "end_time": "2021-08-15T13:19:28.094889",
     "exception": false,
     "start_time": "2021-08-15T13:19:26.838453",
     "status": "completed"
    },
    "tags": []
   },
   "outputs": [
    {
     "name": "stdout",
     "output_type": "stream",
     "text": [
      "Setup Complete\n"
     ]
    }
   ],
   "source": [
    "# Code you have previously used to load data\n",
    "import pandas as pd\n",
    "\n",
    "# Path of the file to read\n",
    "iowa_file_path = '../input/home-data-for-ml-course/train.csv'\n",
    "\n",
    "home_data = pd.read_csv(iowa_file_path)\n",
    "\n",
    "# Set up code checking\n",
    "from learntools.core import binder\n",
    "binder.bind(globals())\n",
    "from learntools.machine_learning.ex3 import *\n",
    "\n",
    "print(\"Setup Complete\")"
   ]
  },
  {
   "cell_type": "markdown",
   "id": "fc104725",
   "metadata": {
    "papermill": {
     "duration": 0.015227,
     "end_time": "2021-08-15T13:19:28.127064",
     "exception": false,
     "start_time": "2021-08-15T13:19:28.111837",
     "status": "completed"
    },
    "tags": []
   },
   "source": [
    "# Exercises\n",
    "\n",
    "## Step 1: Specify Prediction Target\n",
    "Select the target variable, which corresponds to the sales price. Save this to a new variable called `y`. You'll need to print a list of the columns to find the name of the column you need.\n"
   ]
  },
  {
   "cell_type": "code",
   "execution_count": 2,
   "id": "768eaf52",
   "metadata": {
    "execution": {
     "iopub.execute_input": "2021-08-15T13:19:28.167316Z",
     "iopub.status.busy": "2021-08-15T13:19:28.166436Z",
     "iopub.status.idle": "2021-08-15T13:19:28.170327Z",
     "shell.execute_reply": "2021-08-15T13:19:28.170811Z",
     "shell.execute_reply.started": "2021-08-15T13:18:48.431367Z"
    },
    "papermill": {
     "duration": 0.028381,
     "end_time": "2021-08-15T13:19:28.170991",
     "exception": false,
     "start_time": "2021-08-15T13:19:28.142610",
     "status": "completed"
    },
    "tags": []
   },
   "outputs": [
    {
     "data": {
      "text/plain": [
       "Index(['Id', 'MSSubClass', 'MSZoning', 'LotFrontage', 'LotArea', 'Street',\n",
       "       'Alley', 'LotShape', 'LandContour', 'Utilities', 'LotConfig',\n",
       "       'LandSlope', 'Neighborhood', 'Condition1', 'Condition2', 'BldgType',\n",
       "       'HouseStyle', 'OverallQual', 'OverallCond', 'YearBuilt', 'YearRemodAdd',\n",
       "       'RoofStyle', 'RoofMatl', 'Exterior1st', 'Exterior2nd', 'MasVnrType',\n",
       "       'MasVnrArea', 'ExterQual', 'ExterCond', 'Foundation', 'BsmtQual',\n",
       "       'BsmtCond', 'BsmtExposure', 'BsmtFinType1', 'BsmtFinSF1',\n",
       "       'BsmtFinType2', 'BsmtFinSF2', 'BsmtUnfSF', 'TotalBsmtSF', 'Heating',\n",
       "       'HeatingQC', 'CentralAir', 'Electrical', '1stFlrSF', '2ndFlrSF',\n",
       "       'LowQualFinSF', 'GrLivArea', 'BsmtFullBath', 'BsmtHalfBath', 'FullBath',\n",
       "       'HalfBath', 'BedroomAbvGr', 'KitchenAbvGr', 'KitchenQual',\n",
       "       'TotRmsAbvGrd', 'Functional', 'Fireplaces', 'FireplaceQu', 'GarageType',\n",
       "       'GarageYrBlt', 'GarageFinish', 'GarageCars', 'GarageArea', 'GarageQual',\n",
       "       'GarageCond', 'PavedDrive', 'WoodDeckSF', 'OpenPorchSF',\n",
       "       'EnclosedPorch', '3SsnPorch', 'ScreenPorch', 'PoolArea', 'PoolQC',\n",
       "       'Fence', 'MiscFeature', 'MiscVal', 'MoSold', 'YrSold', 'SaleType',\n",
       "       'SaleCondition', 'SalePrice'],\n",
       "      dtype='object')"
      ]
     },
     "execution_count": 2,
     "metadata": {},
     "output_type": "execute_result"
    }
   ],
   "source": [
    "# print the list of columns in the dataset to find the name of the prediction target\n",
    "home_data.columns"
   ]
  },
  {
   "cell_type": "code",
   "execution_count": 3,
   "id": "43364b6c",
   "metadata": {
    "execution": {
     "iopub.execute_input": "2021-08-15T13:19:28.206840Z",
     "iopub.status.busy": "2021-08-15T13:19:28.205886Z",
     "iopub.status.idle": "2021-08-15T13:19:28.220546Z",
     "shell.execute_reply": "2021-08-15T13:19:28.221094Z",
     "shell.execute_reply.started": "2021-08-15T13:18:48.443459Z"
    },
    "papermill": {
     "duration": 0.034298,
     "end_time": "2021-08-15T13:19:28.221286",
     "exception": false,
     "start_time": "2021-08-15T13:19:28.186988",
     "status": "completed"
    },
    "tags": []
   },
   "outputs": [
    {
     "data": {
      "application/javascript": [
       "parent.postMessage({\"jupyterEvent\": \"custom.exercise_interaction\", \"data\": {\"outcomeType\": 1, \"valueTowardsCompletion\": 0.25, \"interactionType\": 1, \"questionType\": 2, \"questionId\": \"1_SetTarget\", \"learnToolsVersion\": \"0.3.4\", \"failureMessage\": \"\", \"exceptionClass\": \"\", \"trace\": \"\"}}, \"*\")"
      ],
      "text/plain": [
       "<IPython.core.display.Javascript object>"
      ]
     },
     "metadata": {},
     "output_type": "display_data"
    },
    {
     "data": {
      "text/markdown": [
       "<span style=\"color:#33cc33\">Correct</span>"
      ],
      "text/plain": [
       "Correct"
      ]
     },
     "metadata": {},
     "output_type": "display_data"
    }
   ],
   "source": [
    "y = home_data.SalePrice\n",
    "\n",
    "# Check your answer\n",
    "step_1.check()"
   ]
  },
  {
   "cell_type": "code",
   "execution_count": 4,
   "id": "2876e7a6",
   "metadata": {
    "execution": {
     "iopub.execute_input": "2021-08-15T13:19:28.259220Z",
     "iopub.status.busy": "2021-08-15T13:19:28.258269Z",
     "iopub.status.idle": "2021-08-15T13:19:28.261719Z",
     "shell.execute_reply": "2021-08-15T13:19:28.262314Z",
     "shell.execute_reply.started": "2021-08-15T13:18:48.464025Z"
    },
    "papermill": {
     "duration": 0.024355,
     "end_time": "2021-08-15T13:19:28.262491",
     "exception": false,
     "start_time": "2021-08-15T13:19:28.238136",
     "status": "completed"
    },
    "tags": []
   },
   "outputs": [],
   "source": [
    "# The lines below will show you a hint or the solution.\n",
    "# step_1.hint() \n",
    "# step_1.solution()"
   ]
  },
  {
   "cell_type": "markdown",
   "id": "6a43610e",
   "metadata": {
    "papermill": {
     "duration": 0.016881,
     "end_time": "2021-08-15T13:19:28.296296",
     "exception": false,
     "start_time": "2021-08-15T13:19:28.279415",
     "status": "completed"
    },
    "tags": []
   },
   "source": [
    "## Step 2: Create X\n",
    "Now you will create a DataFrame called `X` holding the predictive features.\n",
    "\n",
    "Since you want only some columns from the original data, you'll first create a list with the names of the columns you want in `X`.\n",
    "\n",
    "You'll use just the following columns in the list (you can copy and paste the whole list to save some typing, though you'll still need to add quotes):\n",
    "    * LotArea\n",
    "    * YearBuilt\n",
    "    * 1stFlrSF\n",
    "    * 2ndFlrSF\n",
    "    * FullBath\n",
    "    * BedroomAbvGr\n",
    "    * TotRmsAbvGrd\n",
    "\n",
    "After you've created that list of features, use it to create the DataFrame that you'll use to fit the model."
   ]
  },
  {
   "cell_type": "code",
   "execution_count": 5,
   "id": "7dbcde03",
   "metadata": {
    "execution": {
     "iopub.execute_input": "2021-08-15T13:19:28.338939Z",
     "iopub.status.busy": "2021-08-15T13:19:28.337941Z",
     "iopub.status.idle": "2021-08-15T13:19:28.345083Z",
     "shell.execute_reply": "2021-08-15T13:19:28.345651Z",
     "shell.execute_reply.started": "2021-08-15T13:18:48.472478Z"
    },
    "papermill": {
     "duration": 0.032518,
     "end_time": "2021-08-15T13:19:28.345818",
     "exception": false,
     "start_time": "2021-08-15T13:19:28.313300",
     "status": "completed"
    },
    "tags": []
   },
   "outputs": [
    {
     "data": {
      "application/javascript": [
       "parent.postMessage({\"jupyterEvent\": \"custom.exercise_interaction\", \"data\": {\"outcomeType\": 1, \"valueTowardsCompletion\": 0.25, \"interactionType\": 1, \"questionType\": 2, \"questionId\": \"2_SelectPredictionData\", \"learnToolsVersion\": \"0.3.4\", \"failureMessage\": \"\", \"exceptionClass\": \"\", \"trace\": \"\"}}, \"*\")"
      ],
      "text/plain": [
       "<IPython.core.display.Javascript object>"
      ]
     },
     "metadata": {},
     "output_type": "display_data"
    },
    {
     "data": {
      "text/markdown": [
       "<span style=\"color:#33cc33\">Correct</span>"
      ],
      "text/plain": [
       "Correct"
      ]
     },
     "metadata": {},
     "output_type": "display_data"
    }
   ],
   "source": [
    "# Create the list of features below\n",
    "feature_names = ['LotArea', 'YearBuilt', '1stFlrSF', '2ndFlrSF', 'FullBath', 'BedroomAbvGr', 'TotRmsAbvGrd']\n",
    "\n",
    "# Select data corresponding to features in feature_names\n",
    "X = home_data[feature_names]\n",
    "\n",
    "# Check your answer\n",
    "step_2.check()"
   ]
  },
  {
   "cell_type": "code",
   "execution_count": 6,
   "id": "082c933e",
   "metadata": {
    "execution": {
     "iopub.execute_input": "2021-08-15T13:19:28.385046Z",
     "iopub.status.busy": "2021-08-15T13:19:28.384097Z",
     "iopub.status.idle": "2021-08-15T13:19:28.387466Z",
     "shell.execute_reply": "2021-08-15T13:19:28.387981Z",
     "shell.execute_reply.started": "2021-08-15T13:18:48.491827Z"
    },
    "papermill": {
     "duration": 0.024535,
     "end_time": "2021-08-15T13:19:28.388140",
     "exception": false,
     "start_time": "2021-08-15T13:19:28.363605",
     "status": "completed"
    },
    "tags": []
   },
   "outputs": [],
   "source": [
    "# step_2.hint()\n",
    "# step_2.solution()"
   ]
  },
  {
   "cell_type": "markdown",
   "id": "33a40c11",
   "metadata": {
    "papermill": {
     "duration": 0.017553,
     "end_time": "2021-08-15T13:19:28.423424",
     "exception": false,
     "start_time": "2021-08-15T13:19:28.405871",
     "status": "completed"
    },
    "tags": []
   },
   "source": [
    "## Review Data\n",
    "Before building a model, take a quick look at **X** to verify it looks sensible"
   ]
  },
  {
   "cell_type": "code",
   "execution_count": 7,
   "id": "34f6070d",
   "metadata": {
    "execution": {
     "iopub.execute_input": "2021-08-15T13:19:28.463188Z",
     "iopub.status.busy": "2021-08-15T13:19:28.461937Z",
     "iopub.status.idle": "2021-08-15T13:19:28.509084Z",
     "shell.execute_reply": "2021-08-15T13:19:28.509666Z",
     "shell.execute_reply.started": "2021-08-15T13:18:48.499890Z"
    },
    "papermill": {
     "duration": 0.06855,
     "end_time": "2021-08-15T13:19:28.509896",
     "exception": false,
     "start_time": "2021-08-15T13:19:28.441346",
     "status": "completed"
    },
    "tags": []
   },
   "outputs": [
    {
     "name": "stdout",
     "output_type": "stream",
     "text": [
      "             LotArea    YearBuilt     1stFlrSF     2ndFlrSF     FullBath  \\\n",
      "count    1460.000000  1460.000000  1460.000000  1460.000000  1460.000000   \n",
      "mean    10516.828082  1971.267808  1162.626712   346.992466     1.565068   \n",
      "std      9981.264932    30.202904   386.587738   436.528436     0.550916   \n",
      "min      1300.000000  1872.000000   334.000000     0.000000     0.000000   \n",
      "25%      7553.500000  1954.000000   882.000000     0.000000     1.000000   \n",
      "50%      9478.500000  1973.000000  1087.000000     0.000000     2.000000   \n",
      "75%     11601.500000  2000.000000  1391.250000   728.000000     2.000000   \n",
      "max    215245.000000  2010.000000  4692.000000  2065.000000     3.000000   \n",
      "\n",
      "       BedroomAbvGr  TotRmsAbvGrd  \n",
      "count   1460.000000   1460.000000  \n",
      "mean       2.866438      6.517808  \n",
      "std        0.815778      1.625393  \n",
      "min        0.000000      2.000000  \n",
      "25%        2.000000      5.000000  \n",
      "50%        3.000000      6.000000  \n",
      "75%        3.000000      7.000000  \n",
      "max        8.000000     14.000000  \n",
      "   LotArea  YearBuilt  1stFlrSF  2ndFlrSF  FullBath  BedroomAbvGr  \\\n",
      "0     8450       2003       856       854         2             3   \n",
      "1     9600       1976      1262         0         2             3   \n",
      "2    11250       2001       920       866         2             3   \n",
      "3     9550       1915       961       756         1             3   \n",
      "4    14260       2000      1145      1053         2             4   \n",
      "\n",
      "   TotRmsAbvGrd  \n",
      "0             8  \n",
      "1             6  \n",
      "2             6  \n",
      "3             7  \n",
      "4             9  \n"
     ]
    }
   ],
   "source": [
    "# Review data\n",
    "# print description or statistics from X\n",
    "print(X.describe())\n",
    "\n",
    "# print the top few lines\n",
    "#print(_)\n",
    "print(X.head())"
   ]
  },
  {
   "cell_type": "markdown",
   "id": "ad979377",
   "metadata": {
    "papermill": {
     "duration": 0.030032,
     "end_time": "2021-08-15T13:19:28.568987",
     "exception": false,
     "start_time": "2021-08-15T13:19:28.538955",
     "status": "completed"
    },
    "tags": []
   },
   "source": [
    "## Step 3: Specify and Fit Model\n",
    "Create a `DecisionTreeRegressor` and save it iowa_model. Ensure you've done the relevant import from sklearn to run this command.\n",
    "\n",
    "Then fit the model you just created using the data in `X` and `y` that you saved above."
   ]
  },
  {
   "cell_type": "code",
   "execution_count": 8,
   "id": "3a433b22",
   "metadata": {
    "execution": {
     "iopub.execute_input": "2021-08-15T13:19:28.616557Z",
     "iopub.status.busy": "2021-08-15T13:19:28.615831Z",
     "iopub.status.idle": "2021-08-15T13:19:28.634353Z",
     "shell.execute_reply": "2021-08-15T13:19:28.634929Z",
     "shell.execute_reply.started": "2021-08-15T13:18:48.543892Z"
    },
    "papermill": {
     "duration": 0.040674,
     "end_time": "2021-08-15T13:19:28.635105",
     "exception": false,
     "start_time": "2021-08-15T13:19:28.594431",
     "status": "completed"
    },
    "tags": []
   },
   "outputs": [
    {
     "data": {
      "application/javascript": [
       "parent.postMessage({\"jupyterEvent\": \"custom.exercise_interaction\", \"data\": {\"outcomeType\": 1, \"valueTowardsCompletion\": 0.25, \"interactionType\": 1, \"questionType\": 2, \"questionId\": \"3_CreateModel\", \"learnToolsVersion\": \"0.3.4\", \"failureMessage\": \"\", \"exceptionClass\": \"\", \"trace\": \"\"}}, \"*\")"
      ],
      "text/plain": [
       "<IPython.core.display.Javascript object>"
      ]
     },
     "metadata": {},
     "output_type": "display_data"
    },
    {
     "data": {
      "text/markdown": [
       "<span style=\"color:#33cc33\">Correct</span>"
      ],
      "text/plain": [
       "Correct"
      ]
     },
     "metadata": {},
     "output_type": "display_data"
    }
   ],
   "source": [
    "# from _ import _\n",
    "from sklearn.tree import DecisionTreeRegressor\n",
    "#specify the model. \n",
    "#For model reproducibility, set a numeric value for random_state when specifying the model\n",
    "iowa_model = DecisionTreeRegressor(random_state=1)\n",
    "\n",
    "# Fit the model\n",
    "iowa_model.fit(X,y)\n",
    "\n",
    "# Check your answer\n",
    "step_3.check()"
   ]
  },
  {
   "cell_type": "code",
   "execution_count": 9,
   "id": "9115aed1",
   "metadata": {
    "execution": {
     "iopub.execute_input": "2021-08-15T13:19:28.678006Z",
     "iopub.status.busy": "2021-08-15T13:19:28.677275Z",
     "iopub.status.idle": "2021-08-15T13:19:28.680974Z",
     "shell.execute_reply": "2021-08-15T13:19:28.680391Z",
     "shell.execute_reply.started": "2021-08-15T13:18:48.568353Z"
    },
    "papermill": {
     "duration": 0.026196,
     "end_time": "2021-08-15T13:19:28.681116",
     "exception": false,
     "start_time": "2021-08-15T13:19:28.654920",
     "status": "completed"
    },
    "tags": []
   },
   "outputs": [],
   "source": [
    "# step_3.hint()\n",
    "# step_3.solution()"
   ]
  },
  {
   "cell_type": "markdown",
   "id": "dfe60ab1",
   "metadata": {
    "papermill": {
     "duration": 0.019673,
     "end_time": "2021-08-15T13:19:28.720769",
     "exception": false,
     "start_time": "2021-08-15T13:19:28.701096",
     "status": "completed"
    },
    "tags": []
   },
   "source": [
    "## Step 4: Make Predictions\n",
    "Make predictions with the model's `predict` command using `X` as the data. Save the results to a variable called `predictions`."
   ]
  },
  {
   "cell_type": "code",
   "execution_count": 10,
   "id": "43cdabb0",
   "metadata": {
    "execution": {
     "iopub.execute_input": "2021-08-15T13:19:28.768748Z",
     "iopub.status.busy": "2021-08-15T13:19:28.767440Z",
     "iopub.status.idle": "2021-08-15T13:19:28.779108Z",
     "shell.execute_reply": "2021-08-15T13:19:28.779628Z",
     "shell.execute_reply.started": "2021-08-15T13:18:48.574032Z"
    },
    "papermill": {
     "duration": 0.03913,
     "end_time": "2021-08-15T13:19:28.779809",
     "exception": false,
     "start_time": "2021-08-15T13:19:28.740679",
     "status": "completed"
    },
    "tags": []
   },
   "outputs": [
    {
     "name": "stdout",
     "output_type": "stream",
     "text": [
      "[208500. 181500. 223500. ... 266500. 142125. 147500.]\n"
     ]
    },
    {
     "data": {
      "application/javascript": [
       "parent.postMessage({\"jupyterEvent\": \"custom.exercise_interaction\", \"data\": {\"outcomeType\": 1, \"valueTowardsCompletion\": 0.25, \"interactionType\": 1, \"questionType\": 2, \"questionId\": \"4_MakePredictions\", \"learnToolsVersion\": \"0.3.4\", \"failureMessage\": \"\", \"exceptionClass\": \"\", \"trace\": \"\"}}, \"*\")"
      ],
      "text/plain": [
       "<IPython.core.display.Javascript object>"
      ]
     },
     "metadata": {},
     "output_type": "display_data"
    },
    {
     "data": {
      "text/markdown": [
       "<span style=\"color:#33cc33\">Correct</span>"
      ],
      "text/plain": [
       "Correct"
      ]
     },
     "metadata": {},
     "output_type": "display_data"
    }
   ],
   "source": [
    "predictions = iowa_model.predict(X)\n",
    "print(predictions)\n",
    "\n",
    "# Check your answer\n",
    "step_4.check()"
   ]
  },
  {
   "cell_type": "code",
   "execution_count": 11,
   "id": "47ac1e79",
   "metadata": {
    "execution": {
     "iopub.execute_input": "2021-08-15T13:19:28.824147Z",
     "iopub.status.busy": "2021-08-15T13:19:28.823526Z",
     "iopub.status.idle": "2021-08-15T13:19:28.826639Z",
     "shell.execute_reply": "2021-08-15T13:19:28.827149Z",
     "shell.execute_reply.started": "2021-08-15T13:18:48.596908Z"
    },
    "papermill": {
     "duration": 0.026887,
     "end_time": "2021-08-15T13:19:28.827329",
     "exception": false,
     "start_time": "2021-08-15T13:19:28.800442",
     "status": "completed"
    },
    "tags": []
   },
   "outputs": [],
   "source": [
    "# step_4.hint()\n",
    "# step_4.solution()"
   ]
  },
  {
   "cell_type": "markdown",
   "id": "a10a301d",
   "metadata": {
    "papermill": {
     "duration": 0.020005,
     "end_time": "2021-08-15T13:19:28.867750",
     "exception": false,
     "start_time": "2021-08-15T13:19:28.847745",
     "status": "completed"
    },
    "tags": []
   },
   "source": [
    "## Think About Your Results\n",
    "\n",
    "Use the `head` method to compare the top few predictions to the actual home values (in `y`) for those same homes. Anything surprising?\n"
   ]
  },
  {
   "cell_type": "code",
   "execution_count": 12,
   "id": "db6dc41e",
   "metadata": {
    "execution": {
     "iopub.execute_input": "2021-08-15T13:19:28.912553Z",
     "iopub.status.busy": "2021-08-15T13:19:28.911922Z",
     "iopub.status.idle": "2021-08-15T13:19:28.917993Z",
     "shell.execute_reply": "2021-08-15T13:19:28.918515Z",
     "shell.execute_reply.started": "2021-08-15T13:18:48.603302Z"
    },
    "papermill": {
     "duration": 0.030583,
     "end_time": "2021-08-15T13:19:28.918699",
     "exception": false,
     "start_time": "2021-08-15T13:19:28.888116",
     "status": "completed"
    },
    "tags": []
   },
   "outputs": [
    {
     "data": {
      "text/plain": [
       "0    208500\n",
       "1    181500\n",
       "2    223500\n",
       "3    140000\n",
       "4    250000\n",
       "Name: SalePrice, dtype: int64"
      ]
     },
     "execution_count": 12,
     "metadata": {},
     "output_type": "execute_result"
    }
   ],
   "source": [
    "# You can write code in this cell\n",
    "y.head()"
   ]
  },
  {
   "cell_type": "markdown",
   "id": "20aca7bd",
   "metadata": {
    "papermill": {
     "duration": 0.020564,
     "end_time": "2021-08-15T13:19:28.960304",
     "exception": false,
     "start_time": "2021-08-15T13:19:28.939740",
     "status": "completed"
    },
    "tags": []
   },
   "source": [
    "It's natural to ask how accurate the model's predictions will be and how you can improve that. That will be you're next step.\n",
    "\n",
    "# Keep Going\n",
    "\n",
    "You are ready for **[Model Validation](https://www.kaggle.com/dansbecker/model-validation).**\n"
   ]
  },
  {
   "cell_type": "markdown",
   "id": "80a86aae",
   "metadata": {
    "papermill": {
     "duration": 0.020613,
     "end_time": "2021-08-15T13:19:29.002098",
     "exception": false,
     "start_time": "2021-08-15T13:19:28.981485",
     "status": "completed"
    },
    "tags": []
   },
   "source": [
    "---\n",
    "\n",
    "\n",
    "\n",
    "\n",
    "*Have questions or comments? Visit the [Learn Discussion forum](https://www.kaggle.com/learn-forum/161285) to chat with other Learners.*"
   ]
  }
 ],
 "metadata": {
  "kernelspec": {
   "display_name": "Python 3",
   "language": "python",
   "name": "python3"
  },
  "language_info": {
   "codemirror_mode": {
    "name": "ipython",
    "version": 3
   },
   "file_extension": ".py",
   "mimetype": "text/x-python",
   "name": "python",
   "nbconvert_exporter": "python",
   "pygments_lexer": "ipython3",
   "version": "3.7.10"
  },
  "papermill": {
   "default_parameters": {},
   "duration": 11.765393,
   "end_time": "2021-08-15T13:19:30.503891",
   "environment_variables": {},
   "exception": null,
   "input_path": "__notebook__.ipynb",
   "output_path": "__notebook__.ipynb",
   "parameters": {},
   "start_time": "2021-08-15T13:19:18.738498",
   "version": "2.3.3"
  }
 },
 "nbformat": 4,
 "nbformat_minor": 5
}
