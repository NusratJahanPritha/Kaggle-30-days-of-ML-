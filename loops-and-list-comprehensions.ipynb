{
 "cells": [
  {
   "cell_type": "markdown",
   "id": "73f5cecb",
   "metadata": {
    "papermill": {
     "duration": 0.020218,
     "end_time": "2021-08-17T02:53:53.184200",
     "exception": false,
     "start_time": "2021-08-17T02:53:53.163982",
     "status": "completed"
    },
    "tags": []
   },
   "source": [
    "# Loops\n",
    "\n",
    "Loops are a way to repeatedly execute some code. Here's an example:"
   ]
  },
  {
   "cell_type": "code",
   "execution_count": 1,
   "id": "14ba42d0",
   "metadata": {
    "execution": {
     "iopub.execute_input": "2021-08-17T02:53:53.232919Z",
     "iopub.status.busy": "2021-08-17T02:53:53.232240Z",
     "iopub.status.idle": "2021-08-17T02:53:53.238457Z",
     "shell.execute_reply": "2021-08-17T02:53:53.239092Z"
    },
    "papermill": {
     "duration": 0.035797,
     "end_time": "2021-08-17T02:53:53.239490",
     "exception": false,
     "start_time": "2021-08-17T02:53:53.203693",
     "status": "completed"
    },
    "tags": []
   },
   "outputs": [
    {
     "name": "stdout",
     "output_type": "stream",
     "text": [
      "Mercury Venus Earth Mars Jupiter Saturn Uranus Neptune "
     ]
    }
   ],
   "source": [
    "planets = ['Mercury', 'Venus', 'Earth', 'Mars', 'Jupiter', 'Saturn', 'Uranus', 'Neptune']\n",
    "for planet in planets:\n",
    "    print(planet, end=' ') # print all on same line"
   ]
  },
  {
   "cell_type": "markdown",
   "id": "67d33159",
   "metadata": {
    "papermill": {
     "duration": 0.018934,
     "end_time": "2021-08-17T02:53:53.277990",
     "exception": false,
     "start_time": "2021-08-17T02:53:53.259056",
     "status": "completed"
    },
    "tags": []
   },
   "source": [
    "The ``for`` loop specifies \n",
    "- the variable name to use (in this case, `planet`)\n",
    "- the set of values to loop over (in this case, `planets`)\n",
    "\n",
    "You use the word \"``in``\" to link them together.\n",
    "\n",
    "The object to the right of the \"``in``\" can be any object that supports iteration. Basically, if it can be thought of as a group of things, you can probably loop over it. In addition to lists, we can iterate over the elements of a tuple:"
   ]
  },
  {
   "cell_type": "code",
   "execution_count": 2,
   "id": "745ed840",
   "metadata": {
    "execution": {
     "iopub.execute_input": "2021-08-17T02:53:53.320221Z",
     "iopub.status.busy": "2021-08-17T02:53:53.319555Z",
     "iopub.status.idle": "2021-08-17T02:53:53.328154Z",
     "shell.execute_reply": "2021-08-17T02:53:53.328666Z"
    },
    "papermill": {
     "duration": 0.031381,
     "end_time": "2021-08-17T02:53:53.328869",
     "exception": false,
     "start_time": "2021-08-17T02:53:53.297488",
     "status": "completed"
    },
    "tags": []
   },
   "outputs": [
    {
     "data": {
      "text/plain": [
       "360"
      ]
     },
     "execution_count": 2,
     "metadata": {},
     "output_type": "execute_result"
    }
   ],
   "source": [
    "multiplicands = (2, 2, 2, 3, 3, 5)\n",
    "product = 1\n",
    "for mult in multiplicands:\n",
    "    product = product * mult\n",
    "product"
   ]
  },
  {
   "cell_type": "markdown",
   "id": "274db797",
   "metadata": {
    "papermill": {
     "duration": 0.019495,
     "end_time": "2021-08-17T02:53:53.368183",
     "exception": false,
     "start_time": "2021-08-17T02:53:53.348688",
     "status": "completed"
    },
    "tags": []
   },
   "source": [
    "You can even loop through each character in a string:"
   ]
  },
  {
   "cell_type": "code",
   "execution_count": 3,
   "id": "3a515647",
   "metadata": {
    "execution": {
     "iopub.execute_input": "2021-08-17T02:53:53.414473Z",
     "iopub.status.busy": "2021-08-17T02:53:53.413469Z",
     "iopub.status.idle": "2021-08-17T02:53:53.418552Z",
     "shell.execute_reply": "2021-08-17T02:53:53.419023Z"
    },
    "papermill": {
     "duration": 0.030782,
     "end_time": "2021-08-17T02:53:53.419196",
     "exception": false,
     "start_time": "2021-08-17T02:53:53.388414",
     "status": "completed"
    },
    "tags": []
   },
   "outputs": [
    {
     "name": "stdout",
     "output_type": "stream",
     "text": [
      "HELLO"
     ]
    }
   ],
   "source": [
    "s = 'steganograpHy is the practicE of conceaLing a file, message, image, or video within another fiLe, message, image, Or video.'\n",
    "msg = ''\n",
    "# print all the uppercase letters in s, one at a time\n",
    "for char in s:\n",
    "    if char.isupper():\n",
    "        print(char, end='')        "
   ]
  },
  {
   "cell_type": "markdown",
   "id": "5afd4276",
   "metadata": {
    "papermill": {
     "duration": 0.019471,
     "end_time": "2021-08-17T02:53:53.458806",
     "exception": false,
     "start_time": "2021-08-17T02:53:53.439335",
     "status": "completed"
    },
    "tags": []
   },
   "source": [
    "### range()\n",
    "\n",
    "`range()` is a function that returns a sequence of numbers. It turns out to be very useful for writing loops.\n",
    "\n",
    "For example, if we want to repeat some action 5 times:"
   ]
  },
  {
   "cell_type": "code",
   "execution_count": 4,
   "id": "5f70ae78",
   "metadata": {
    "execution": {
     "iopub.execute_input": "2021-08-17T02:53:53.504384Z",
     "iopub.status.busy": "2021-08-17T02:53:53.503406Z",
     "iopub.status.idle": "2021-08-17T02:53:53.509833Z",
     "shell.execute_reply": "2021-08-17T02:53:53.510650Z"
    },
    "papermill": {
     "duration": 0.032182,
     "end_time": "2021-08-17T02:53:53.510860",
     "exception": false,
     "start_time": "2021-08-17T02:53:53.478678",
     "status": "completed"
    },
    "tags": []
   },
   "outputs": [
    {
     "name": "stdout",
     "output_type": "stream",
     "text": [
      "Doing important work. i = 0\n",
      "Doing important work. i = 1\n",
      "Doing important work. i = 2\n",
      "Doing important work. i = 3\n",
      "Doing important work. i = 4\n"
     ]
    }
   ],
   "source": [
    "for i in range(5):\n",
    "    print(\"Doing important work. i =\", i)"
   ]
  },
  {
   "cell_type": "markdown",
   "id": "c3cf1786",
   "metadata": {
    "papermill": {
     "duration": 0.019936,
     "end_time": "2021-08-17T02:53:53.551081",
     "exception": false,
     "start_time": "2021-08-17T02:53:53.531145",
     "status": "completed"
    },
    "tags": []
   },
   "source": [
    "## ``while`` loops\n",
    "The other type of loop in Python is a ``while`` loop, which iterates until some condition is met:"
   ]
  },
  {
   "cell_type": "code",
   "execution_count": 5,
   "id": "b97e6e1f",
   "metadata": {
    "execution": {
     "iopub.execute_input": "2021-08-17T02:53:53.597409Z",
     "iopub.status.busy": "2021-08-17T02:53:53.596439Z",
     "iopub.status.idle": "2021-08-17T02:53:53.602659Z",
     "shell.execute_reply": "2021-08-17T02:53:53.602044Z"
    },
    "papermill": {
     "duration": 0.031662,
     "end_time": "2021-08-17T02:53:53.602797",
     "exception": false,
     "start_time": "2021-08-17T02:53:53.571135",
     "status": "completed"
    },
    "tags": []
   },
   "outputs": [
    {
     "name": "stdout",
     "output_type": "stream",
     "text": [
      "0 1 2 3 4 5 6 7 8 9 "
     ]
    }
   ],
   "source": [
    "i = 0\n",
    "while i < 10:\n",
    "    print(i, end=' ')\n",
    "    i += 1 # increase the value of i by 1"
   ]
  },
  {
   "cell_type": "markdown",
   "id": "7733dbe9",
   "metadata": {
    "papermill": {
     "duration": 0.025431,
     "end_time": "2021-08-17T02:53:53.649075",
     "exception": false,
     "start_time": "2021-08-17T02:53:53.623644",
     "status": "completed"
    },
    "tags": []
   },
   "source": [
    "The argument of the ``while`` loop is evaluated as a boolean statement, and the loop is executed until the statement evaluates to False."
   ]
  },
  {
   "cell_type": "markdown",
   "id": "b59475ee",
   "metadata": {
    "papermill": {
     "duration": 0.023128,
     "end_time": "2021-08-17T02:53:53.698661",
     "exception": false,
     "start_time": "2021-08-17T02:53:53.675533",
     "status": "completed"
    },
    "tags": []
   },
   "source": [
    "# List comprehensions\n",
    "\n",
    "List comprehensions are one of Python's most beloved and unique features. The easiest way to understand them is probably to just look at a few examples:"
   ]
  },
  {
   "cell_type": "code",
   "execution_count": 6,
   "id": "22b29801",
   "metadata": {
    "execution": {
     "iopub.execute_input": "2021-08-17T02:53:53.760498Z",
     "iopub.status.busy": "2021-08-17T02:53:53.759608Z",
     "iopub.status.idle": "2021-08-17T02:53:53.763744Z",
     "shell.execute_reply": "2021-08-17T02:53:53.763154Z"
    },
    "papermill": {
     "duration": 0.035531,
     "end_time": "2021-08-17T02:53:53.763878",
     "exception": false,
     "start_time": "2021-08-17T02:53:53.728347",
     "status": "completed"
    },
    "tags": []
   },
   "outputs": [
    {
     "data": {
      "text/plain": [
       "[0, 1, 4, 9, 16, 25, 36, 49, 64, 81]"
      ]
     },
     "execution_count": 6,
     "metadata": {},
     "output_type": "execute_result"
    }
   ],
   "source": [
    "squares = [n**2 for n in range(10)]\n",
    "squares"
   ]
  },
  {
   "cell_type": "markdown",
   "id": "74658ae9",
   "metadata": {
    "papermill": {
     "duration": 0.023208,
     "end_time": "2021-08-17T02:53:53.811292",
     "exception": false,
     "start_time": "2021-08-17T02:53:53.788084",
     "status": "completed"
    },
    "tags": []
   },
   "source": [
    "Here's how we would do the same thing without a list comprehension:"
   ]
  },
  {
   "cell_type": "code",
   "execution_count": 7,
   "id": "7d038d7b",
   "metadata": {
    "execution": {
     "iopub.execute_input": "2021-08-17T02:53:53.868234Z",
     "iopub.status.busy": "2021-08-17T02:53:53.867270Z",
     "iopub.status.idle": "2021-08-17T02:53:53.874134Z",
     "shell.execute_reply": "2021-08-17T02:53:53.874726Z"
    },
    "papermill": {
     "duration": 0.035101,
     "end_time": "2021-08-17T02:53:53.874943",
     "exception": false,
     "start_time": "2021-08-17T02:53:53.839842",
     "status": "completed"
    },
    "tags": []
   },
   "outputs": [
    {
     "data": {
      "text/plain": [
       "[0, 1, 4, 9, 16, 25, 36, 49, 64, 81]"
      ]
     },
     "execution_count": 7,
     "metadata": {},
     "output_type": "execute_result"
    }
   ],
   "source": [
    "squares = []\n",
    "for n in range(10):\n",
    "    squares.append(n**2)\n",
    "squares"
   ]
  },
  {
   "cell_type": "markdown",
   "id": "77016853",
   "metadata": {
    "papermill": {
     "duration": 0.024103,
     "end_time": "2021-08-17T02:53:53.921185",
     "exception": false,
     "start_time": "2021-08-17T02:53:53.897082",
     "status": "completed"
    },
    "tags": []
   },
   "source": [
    "We can also add an `if` condition:"
   ]
  },
  {
   "cell_type": "code",
   "execution_count": 8,
   "id": "795234e2",
   "metadata": {
    "execution": {
     "iopub.execute_input": "2021-08-17T02:53:53.976931Z",
     "iopub.status.busy": "2021-08-17T02:53:53.975966Z",
     "iopub.status.idle": "2021-08-17T02:53:53.982246Z",
     "shell.execute_reply": "2021-08-17T02:53:53.983232Z"
    },
    "papermill": {
     "duration": 0.03664,
     "end_time": "2021-08-17T02:53:53.983441",
     "exception": false,
     "start_time": "2021-08-17T02:53:53.946801",
     "status": "completed"
    },
    "tags": []
   },
   "outputs": [
    {
     "data": {
      "text/plain": [
       "['Venus', 'Earth', 'Mars']"
      ]
     },
     "execution_count": 8,
     "metadata": {},
     "output_type": "execute_result"
    }
   ],
   "source": [
    "short_planets = [planet for planet in planets if len(planet) < 6]\n",
    "short_planets"
   ]
  },
  {
   "cell_type": "markdown",
   "id": "0a130925",
   "metadata": {
    "papermill": {
     "duration": 0.022796,
     "end_time": "2021-08-17T02:53:54.029283",
     "exception": false,
     "start_time": "2021-08-17T02:53:54.006487",
     "status": "completed"
    },
    "tags": []
   },
   "source": [
    "(If you're familiar with SQL, you might think of this as being like a \"WHERE\" clause)\n",
    "\n",
    "Here's an example of filtering with an `if` condition *and* applying some transformation to the loop variable:"
   ]
  },
  {
   "cell_type": "code",
   "execution_count": 9,
   "id": "85f38515",
   "metadata": {
    "execution": {
     "iopub.execute_input": "2021-08-17T02:53:54.080177Z",
     "iopub.status.busy": "2021-08-17T02:53:54.079078Z",
     "iopub.status.idle": "2021-08-17T02:53:54.087097Z",
     "shell.execute_reply": "2021-08-17T02:53:54.087575Z"
    },
    "papermill": {
     "duration": 0.035281,
     "end_time": "2021-08-17T02:53:54.087779",
     "exception": false,
     "start_time": "2021-08-17T02:53:54.052498",
     "status": "completed"
    },
    "tags": []
   },
   "outputs": [
    {
     "data": {
      "text/plain": [
       "['VENUS!', 'EARTH!', 'MARS!']"
      ]
     },
     "execution_count": 9,
     "metadata": {},
     "output_type": "execute_result"
    }
   ],
   "source": [
    "# str.upper() returns an all-caps version of a string\n",
    "loud_short_planets = [planet.upper() + '!' for planet in planets if len(planet) < 6]\n",
    "loud_short_planets"
   ]
  },
  {
   "cell_type": "markdown",
   "id": "85177a0a",
   "metadata": {
    "papermill": {
     "duration": 0.023275,
     "end_time": "2021-08-17T02:53:54.135479",
     "exception": false,
     "start_time": "2021-08-17T02:53:54.112204",
     "status": "completed"
    },
    "tags": []
   },
   "source": [
    "People usually write these on a single line, but you might find the structure clearer when it's split up over 3 lines:"
   ]
  },
  {
   "cell_type": "code",
   "execution_count": 10,
   "id": "bd50bd94",
   "metadata": {
    "execution": {
     "iopub.execute_input": "2021-08-17T02:53:54.186488Z",
     "iopub.status.busy": "2021-08-17T02:53:54.185400Z",
     "iopub.status.idle": "2021-08-17T02:53:54.192341Z",
     "shell.execute_reply": "2021-08-17T02:53:54.192865Z"
    },
    "papermill": {
     "duration": 0.034361,
     "end_time": "2021-08-17T02:53:54.193096",
     "exception": false,
     "start_time": "2021-08-17T02:53:54.158735",
     "status": "completed"
    },
    "tags": []
   },
   "outputs": [
    {
     "data": {
      "text/plain": [
       "['VENUS!', 'EARTH!', 'MARS!']"
      ]
     },
     "execution_count": 10,
     "metadata": {},
     "output_type": "execute_result"
    }
   ],
   "source": [
    "[\n",
    "    planet.upper() + '!' \n",
    "    for planet in planets \n",
    "    if len(planet) < 6\n",
    "]"
   ]
  },
  {
   "cell_type": "markdown",
   "id": "305e300a",
   "metadata": {
    "papermill": {
     "duration": 0.023369,
     "end_time": "2021-08-17T02:53:54.240005",
     "exception": false,
     "start_time": "2021-08-17T02:53:54.216636",
     "status": "completed"
    },
    "tags": []
   },
   "source": [
    "(Continuing the SQL analogy, you could think of these three lines as SELECT, FROM, and WHERE)\n",
    "\n",
    "The expression on the left doesn't technically have to involve the loop variable (though it'd be pretty unusual for it not to). What do you think the expression below will evaluate to? Press the 'output' button to check. "
   ]
  },
  {
   "cell_type": "code",
   "execution_count": 11,
   "id": "da4a6fdf",
   "metadata": {
    "_kg_hide-output": true,
    "execution": {
     "iopub.execute_input": "2021-08-17T02:53:54.293232Z",
     "iopub.status.busy": "2021-08-17T02:53:54.292248Z",
     "iopub.status.idle": "2021-08-17T02:53:54.298646Z",
     "shell.execute_reply": "2021-08-17T02:53:54.299173Z"
    },
    "papermill": {
     "duration": 0.034939,
     "end_time": "2021-08-17T02:53:54.299404",
     "exception": false,
     "start_time": "2021-08-17T02:53:54.264465",
     "status": "completed"
    },
    "tags": []
   },
   "outputs": [
    {
     "data": {
      "text/plain": [
       "[32, 32, 32, 32, 32, 32, 32, 32]"
      ]
     },
     "execution_count": 11,
     "metadata": {},
     "output_type": "execute_result"
    }
   ],
   "source": [
    "[32 for planet in planets]"
   ]
  },
  {
   "cell_type": "markdown",
   "id": "3dad0fd9",
   "metadata": {
    "papermill": {
     "duration": 0.023669,
     "end_time": "2021-08-17T02:53:54.347011",
     "exception": false,
     "start_time": "2021-08-17T02:53:54.323342",
     "status": "completed"
    },
    "tags": []
   },
   "source": [
    "List comprehensions combined with functions like `min`, `max`, and `sum` can lead to impressive one-line solutions for problems that would otherwise require several lines of code. \n",
    "\n",
    "For example, compare the following two cells of code that do the same thing.\n"
   ]
  },
  {
   "cell_type": "code",
   "execution_count": 12,
   "id": "17cf391e",
   "metadata": {
    "execution": {
     "iopub.execute_input": "2021-08-17T02:53:54.399575Z",
     "iopub.status.busy": "2021-08-17T02:53:54.398133Z",
     "iopub.status.idle": "2021-08-17T02:53:54.409731Z",
     "shell.execute_reply": "2021-08-17T02:53:54.409089Z",
     "shell.execute_reply.started": "2021-08-10T05:29:42.185493Z"
    },
    "papermill": {
     "duration": 0.038886,
     "end_time": "2021-08-17T02:53:54.409882",
     "exception": false,
     "start_time": "2021-08-17T02:53:54.370996",
     "status": "completed"
    },
    "tags": []
   },
   "outputs": [
    {
     "data": {
      "text/plain": [
       "2"
      ]
     },
     "execution_count": 12,
     "metadata": {},
     "output_type": "execute_result"
    }
   ],
   "source": [
    "def count_negatives(nums):\n",
    "    \"\"\"Return the number of negative numbers in the given list.\n",
    "    \n",
    "    >>> count_negatives([5, -1, -2, 0, 3])\n",
    "    2\n",
    "    \"\"\"\n",
    "    n_negative = 0\n",
    "    for num in nums:\n",
    "        if num < 0:\n",
    "            n_negative = n_negative + 1\n",
    "    return n_negative\n",
    "count_negatives([5, -1, -2, 0, 3])"
   ]
  },
  {
   "cell_type": "markdown",
   "id": "36cd39d0",
   "metadata": {
    "papermill": {
     "duration": 0.023554,
     "end_time": "2021-08-17T02:53:54.457271",
     "exception": false,
     "start_time": "2021-08-17T02:53:54.433717",
     "status": "completed"
    },
    "tags": []
   },
   "source": [
    "Here's a solution using a list comprehension:"
   ]
  },
  {
   "cell_type": "code",
   "execution_count": 13,
   "id": "dbb20633",
   "metadata": {
    "collapsed": true,
    "execution": {
     "iopub.execute_input": "2021-08-17T02:53:54.510800Z",
     "iopub.status.busy": "2021-08-17T02:53:54.510171Z",
     "iopub.status.idle": "2021-08-17T02:53:54.513469Z",
     "shell.execute_reply": "2021-08-17T02:53:54.512878Z"
    },
    "jupyter": {
     "outputs_hidden": true
    },
    "papermill": {
     "duration": 0.032375,
     "end_time": "2021-08-17T02:53:54.513604",
     "exception": false,
     "start_time": "2021-08-17T02:53:54.481229",
     "status": "completed"
    },
    "tags": []
   },
   "outputs": [],
   "source": [
    "def count_negatives(nums):\n",
    "    return len([num for num in nums if num < 0])"
   ]
  },
  {
   "cell_type": "markdown",
   "id": "09a33633",
   "metadata": {
    "papermill": {
     "duration": 0.023673,
     "end_time": "2021-08-17T02:53:54.561067",
     "exception": false,
     "start_time": "2021-08-17T02:53:54.537394",
     "status": "completed"
    },
    "tags": []
   },
   "source": [
    "Much better, right?\n",
    "\n",
    "Well if all we care about is minimizing the length of our code, this third solution is better still!"
   ]
  },
  {
   "cell_type": "code",
   "execution_count": 14,
   "id": "cfa96c36",
   "metadata": {
    "collapsed": true,
    "execution": {
     "iopub.execute_input": "2021-08-17T02:53:54.614502Z",
     "iopub.status.busy": "2021-08-17T02:53:54.613838Z",
     "iopub.status.idle": "2021-08-17T02:53:54.616857Z",
     "shell.execute_reply": "2021-08-17T02:53:54.617405Z"
    },
    "jupyter": {
     "outputs_hidden": true
    },
    "papermill": {
     "duration": 0.032729,
     "end_time": "2021-08-17T02:53:54.617574",
     "exception": false,
     "start_time": "2021-08-17T02:53:54.584845",
     "status": "completed"
    },
    "tags": []
   },
   "outputs": [],
   "source": [
    "def count_negatives(nums):\n",
    "    # Reminder: in the \"booleans and conditionals\" exercises, we learned about a quirk of \n",
    "    # Python where it calculates something like True + True + False + True to be equal to 3.\n",
    "    return sum([num < 0 for num in nums])"
   ]
  },
  {
   "cell_type": "markdown",
   "id": "ce77e9b6",
   "metadata": {
    "papermill": {
     "duration": 0.023846,
     "end_time": "2021-08-17T02:53:54.665420",
     "exception": false,
     "start_time": "2021-08-17T02:53:54.641574",
     "status": "completed"
    },
    "tags": []
   },
   "source": [
    "Which of these solutions is the \"best\" is entirely subjective. Solving a problem with less code is always nice, but it's worth keeping in mind the following lines from [The Zen of Python](https://en.wikipedia.org/wiki/Zen_of_Python):\n",
    "\n",
    "> Readability counts.  \n",
    "> Explicit is better than implicit.\n",
    "\n",
    "So, use these tools to make compact readable programs. But when you have to choose, favor code that is easy for others to understand."
   ]
  },
  {
   "cell_type": "markdown",
   "id": "79c22604",
   "metadata": {
    "papermill": {
     "duration": 0.024109,
     "end_time": "2021-08-17T02:53:54.713692",
     "exception": false,
     "start_time": "2021-08-17T02:53:54.689583",
     "status": "completed"
    },
    "tags": []
   },
   "source": [
    "# Your Turn\n",
    "\n",
    "You know what's next -- we have some **[fun coding challenges](https://www.kaggle.com/kernels/fork/1275177)** for you! This next set of coding problems is shorter, so try it now."
   ]
  },
  {
   "cell_type": "markdown",
   "id": "87fc0dbe",
   "metadata": {
    "papermill": {
     "duration": 0.023916,
     "end_time": "2021-08-17T02:53:54.762686",
     "exception": false,
     "start_time": "2021-08-17T02:53:54.738770",
     "status": "completed"
    },
    "tags": []
   },
   "source": [
    "---\n",
    "\n",
    "\n",
    "\n",
    "\n",
    "*Have questions or comments? Visit the [Learn Discussion forum](https://www.kaggle.com/learn-forum/161283) to chat with other Learners.*"
   ]
  }
 ],
 "metadata": {
  "kernelspec": {
   "display_name": "Python 3",
   "language": "python",
   "name": "python3"
  },
  "language_info": {
   "codemirror_mode": {
    "name": "ipython",
    "version": 3
   },
   "file_extension": ".py",
   "mimetype": "text/x-python",
   "name": "python",
   "nbconvert_exporter": "python",
   "pygments_lexer": "ipython3",
   "version": "3.7.10"
  },
  "papermill": {
   "default_parameters": {},
   "duration": 11.482922,
   "end_time": "2021-08-17T02:53:55.601490",
   "environment_variables": {},
   "exception": null,
   "input_path": "__notebook__.ipynb",
   "output_path": "__notebook__.ipynb",
   "parameters": {},
   "start_time": "2021-08-17T02:53:44.118568",
   "version": "2.3.3"
  }
 },
 "nbformat": 4,
 "nbformat_minor": 5
}
